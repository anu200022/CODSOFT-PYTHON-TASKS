{
 "cells": [
  {
   "cell_type": "code",
   "execution_count": 26,
   "id": "191fa849",
   "metadata": {},
   "outputs": [],
   "source": [
    "import tkinter as tk\n",
    "from tkinter import messagebox\n",
    "\n",
    "def add_task():\n",
    "    task = entry_task.get()\n",
    "    if task:\n",
    "        listbox_tasks.insert(tk.END, task)\n",
    "        entry_task.delete(0, tk.END)\n",
    "\n",
    "def update_task():\n",
    "    selected_task_index = listbox_tasks.curselection()\n",
    "    if selected_task_index:\n",
    "        new_task = entry_task.get()\n",
    "        if new_task:\n",
    "            index = selected_task_index[0]\n",
    "            listbox_tasks.delete(index)\n",
    "            listbox_tasks.insert(index, new_task)\n",
    "            entry_task.delete(0, tk.END)\n",
    "        else:\n",
    "            messagebox.showwarning(\"Warning\\U0001F621\", \"Please enter a task to update.\")\n",
    "\n",
    "def delete_task():\n",
    "    selected_task_index = listbox_tasks.curselection()\n",
    "    if selected_task_index:\n",
    "        index = selected_task_index[0]\n",
    "        listbox_tasks.delete(index)\n",
    "    else:\n",
    "        messagebox.showwarning(\"Warning\\U0001F917\", \"Please select a task to delete.\")\n",
    "\n",
    "root = tk.Tk()\n",
    "root.title(\"MY TO DO LIST\")\n",
    "\n",
    "frame_tasks = tk.Frame(root)\n",
    "frame_tasks.pack(pady=10)\n",
    "\n",
    "listbox_tasks = tk.Listbox(frame_tasks, width=50,font= (\"arial\",20,\"bold\"),background=\"yellow\")\n",
    "listbox_tasks.pack(side=tk.LEFT, fill=tk.BOTH)\n",
    "\n",
    "scrollbar_tasks = tk.Scrollbar(frame_tasks)\n",
    "scrollbar_tasks.pack(side=tk.RIGHT, fill=tk.BOTH)\n",
    "\n",
    "listbox_tasks.config(yscrollcommand=scrollbar_tasks.set)\n",
    "scrollbar_tasks.config(command=listbox_tasks.yview)\n",
    "\n",
    "entry_task = tk.Entry(root, width=50,background=\"white\")\n",
    "entry_task.pack(pady=10)\n",
    "\n",
    "button_add_task = tk.Button(root, text=\"Add Task\", command=add_task,background=\"orange\")\n",
    "button_add_task.pack(side=tk.LEFT, padx=15)\n",
    "button_delete_task = tk.Button(root, text=\"Delete Task\", command=delete_task,background=\"red\")\n",
    "button_delete_task.pack(side=tk.LEFT, padx=15)\n",
    "button_update_task = tk.Button(root, text=\"Update Task\", command=update_task,background=\"Cyan\")\n",
    "button_update_task.pack(side=tk.LEFT, padx=15)\n",
    "\n",
    "root.mainloop()"
   ]
  },
  {
   "cell_type": "code",
   "execution_count": null,
   "id": "94e8d339",
   "metadata": {},
   "outputs": [],
   "source": []
  },
  {
   "cell_type": "code",
   "execution_count": null,
   "id": "0f53ee43",
   "metadata": {},
   "outputs": [],
   "source": []
  },
  {
   "cell_type": "code",
   "execution_count": null,
   "id": "56c16df0",
   "metadata": {},
   "outputs": [],
   "source": []
  },
  {
   "cell_type": "code",
   "execution_count": null,
   "id": "362ff35d",
   "metadata": {},
   "outputs": [],
   "source": []
  }
 ],
 "metadata": {
  "kernelspec": {
   "display_name": "Python 3",
   "language": "python",
   "name": "python3"
  },
  "language_info": {
   "codemirror_mode": {
    "name": "ipython",
    "version": 3
   },
   "file_extension": ".py",
   "mimetype": "text/x-python",
   "name": "python",
   "nbconvert_exporter": "python",
   "pygments_lexer": "ipython3",
   "version": "3.8.8"
  }
 },
 "nbformat": 4,
 "nbformat_minor": 5
}
