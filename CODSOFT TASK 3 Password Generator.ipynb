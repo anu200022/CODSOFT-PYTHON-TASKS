{
 "cells": [
  {
   "cell_type": "code",
   "execution_count": 5,
   "id": "1989ca16",
   "metadata": {},
   "outputs": [],
   "source": [
    "import tkinter as tk\n",
    "import string\n",
    "import random\n",
    "\n",
    "def generate_password():\n",
    "    username = username_entry.get()\n",
    "    password_length = int(length_entry.get())\n",
    "\n",
    "    if not username:\n",
    "        password_label.config(text=\"Please enter a username.\")\n",
    "        return\n",
    "\n",
    "    if password_length <= 0:\n",
    "        password_label.config(text=\"Password length must be greater than 0.\")\n",
    "        return\n",
    "\n",
    "    characters = string.ascii_letters + string.digits + string.punctuation\n",
    "    password = ''.join(random.choice(characters) for _ in range(password_length))\n",
    "\n",
    "    password_label.config(text=f\"Generated password for {username}: {password}\")\n",
    "\n",
    "# Create the main window\n",
    "root = tk.Tk()\n",
    "root.title(\"Password Generator\")\n",
    "\n",
    "# Username label and entry\n",
    "username_label = tk.Label(root, text=\"Username:\",background=\"pink\")\n",
    "username_label.pack()\n",
    "username_entry = tk.Entry(root)\n",
    "username_entry.pack()\n",
    "\n",
    "# Password length label and entry\n",
    "length_label = tk.Label(root, text=\"Password Length:\")\n",
    "length_label.pack()\n",
    "length_entry = tk.Entry(root)\n",
    "length_entry.pack()\n",
    "\n",
    "# Generate password button\n",
    "generate_button = tk.Button(root, text=\"Generate Password\", command=generate_password,background=\"yellow\")\n",
    "generate_button.pack()\n",
    "\n",
    "# Generated password label\n",
    "password_label = tk.Label(root, text=\"\")\n",
    "password_label.pack()\n",
    "\n",
    "# Start the Tkinter event loop\n",
    "root.mainloop()"
   ]
  },
  {
   "cell_type": "code",
   "execution_count": null,
   "id": "c9f64482",
   "metadata": {},
   "outputs": [],
   "source": []
  }
 ],
 "metadata": {
  "kernelspec": {
   "display_name": "Python 3",
   "language": "python",
   "name": "python3"
  },
  "language_info": {
   "codemirror_mode": {
    "name": "ipython",
    "version": 3
   },
   "file_extension": ".py",
   "mimetype": "text/x-python",
   "name": "python",
   "nbconvert_exporter": "python",
   "pygments_lexer": "ipython3",
   "version": "3.8.8"
  }
 },
 "nbformat": 4,
 "nbformat_minor": 5
}
