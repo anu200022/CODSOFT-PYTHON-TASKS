{
 "cells": [
  {
   "cell_type": "code",
   "execution_count": 10,
   "id": "5597f85c",
   "metadata": {},
   "outputs": [],
   "source": [
    "import tkinter as tk\n",
    "\n",
    "def on_button_click(event):\n",
    "    current = result_var.get()\n",
    "    text = event.widget.cget(\"text\")\n",
    "\n",
    "    if text == \"=\":\n",
    "        try:\n",
    "            result = eval(current)\n",
    "            result_var.set(result)\n",
    "        except Exception as e:\n",
    "            result_var.set(\"Error\")\n",
    "    elif text == \"C\":\n",
    "        result_var.set(\"\")\n",
    "    else:\n",
    "        result_var.set(current + text)\n",
    "\n",
    "# Create the main window\n",
    "root = tk.Tk()\n",
    "root.title(\"My Calculator\")\n",
    "root.geometry(\"300x400\")\n",
    "\n",
    "# Variable to store the result\n",
    "result_var = tk.StringVar()\n",
    "\n",
    "# Entry widget to display the result\n",
    "result_entry = tk.Entry(root, textvariable=result_var, font=\"Arial 20\", bd=10, relief=tk.RIDGE, justify=tk.RIGHT,background=\"cyan\")\n",
    "result_entry.pack(fill=tk.BOTH, expand=True)\n",
    "\n",
    "# Buttons for arithmetic operations and numbers\n",
    "buttons = [\n",
    "    (\"7\", \"8\", \"9\", \"/\"),\n",
    "    (\"4\", \"5\", \"6\", \"*\"),\n",
    "    (\"1\", \"2\", \"3\", \"-\"),\n",
    "    (\"C\", \"0\", \"=\", \"+\")\n",
    "]\n",
    "\n",
    "for row in buttons:\n",
    "    frame = tk.Frame(root)\n",
    "    frame.pack()\n",
    "\n",
    "    for button_text in row:\n",
    "        button = tk.Button(frame, text=button_text, font=\"Arial 16\", padx=20, pady=20, background=\"yellow\",bd=5, relief=tk.RAISED)\n",
    "        button.pack(side=tk.LEFT, fill=tk.BOTH, expand=True)\n",
    "        button.bind(\"<Button-1>\", on_button_click)\n",
    "\n",
    "# Run the main event loop\n",
    "root.mainloop()"
   ]
  },
  {
   "cell_type": "code",
   "execution_count": null,
   "id": "0eae0979",
   "metadata": {},
   "outputs": [],
   "source": []
  },
  {
   "cell_type": "code",
   "execution_count": null,
   "id": "33485d4c",
   "metadata": {},
   "outputs": [],
   "source": []
  }
 ],
 "metadata": {
  "kernelspec": {
   "display_name": "Python 3",
   "language": "python",
   "name": "python3"
  },
  "language_info": {
   "codemirror_mode": {
    "name": "ipython",
    "version": 3
   },
   "file_extension": ".py",
   "mimetype": "text/x-python",
   "name": "python",
   "nbconvert_exporter": "python",
   "pygments_lexer": "ipython3",
   "version": "3.8.8"
  }
 },
 "nbformat": 4,
 "nbformat_minor": 5
}
